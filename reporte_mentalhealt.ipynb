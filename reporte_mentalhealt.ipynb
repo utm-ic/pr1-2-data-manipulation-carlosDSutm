{
 "cells": [
  {
   "cell_type": "markdown",
   "metadata": {},
   "source": [
    "# Practica 1.1. Manipuación de datos\n",
    "\n",
    "## Objetivo\n",
    "\n",
    "En esta práctica, aprenderás a aplicar técnicas de análisis de datos utilizando Pandas para explorar un dataset relacionado con la salud mental. El objetivo es que pongas en práctica tus habilidades de manipulación, limpieza y análisis de datos para obtener conclusiones interesantes."
   ]
  },
  {
   "cell_type": "markdown",
   "metadata": {},
   "source": [
    "Escribe aquí tu reporte"
   ]
  },
  {
   "metadata": {},
   "cell_type": "markdown",
   "source": [
    "Paso 1: Carga del Dataset\n",
    "Primero, vas a cargar el archivo CSV que contiene la información sobre diferentes factores que influyen en la salud mental. Utiliza la biblioteca Pandas para leer el archivo y observa las primeras filas del dataset. Esto te ayudará a familiarizarte con la información que vas a analizar.\n",
    "\n",
    "Preguntas:\n",
    "¿Cuántos registros y columnas tiene el dataset?\n",
    "¿Qué tipo de datos predominan?"
   ]
  },
  {
   "metadata": {
    "ExecuteTime": {
     "end_time": "2025-03-30T19:50:23.482163Z",
     "start_time": "2025-03-30T19:50:23.473337Z"
    }
   },
   "cell_type": "code",
   "source": [
    "import pandas as pd\n",
    "\n",
    "data = pd.read_csv('dataset/mental_health.csv')\n",
    "\n",
    "num_registros, num_columnas = data.shape\n",
    "\n",
    "\n",
    "tipos_datos = data.dtypes.value_counts()\n",
    "\n",
    "\n",
    "print(f\"El dataset tiene {num_registros} registros y {num_columnas} columnas.\")\n",
    "print(\"Tipos de datos predominantes:\")\n",
    "print(tipos_datos)\n"
   ],
   "outputs": [
    {
     "name": "stdout",
     "output_type": "stream",
     "text": [
      "El dataset tiene 1200 registros y 21 columnas.\n",
      "Tipos de datos predominantes:\n",
      "int64      14\n",
      "object      5\n",
      "float64     2\n",
      "Name: count, dtype: int64\n"
     ]
    }
   ],
   "execution_count": 14
  },
  {
   "metadata": {},
   "cell_type": "markdown",
   "source": [
    "Paso 2: Exploración Inicial\n",
    "Ahora que ya tienes los datos cargados, es momento de explorar un poco más. Consulta información general como el tipo de datos en cada columna, cuántos datos no nulos hay, y revisa las primeras filas. También obtén estadísticas básicas como la media y el rango de los datos. Esto te ayudará a detectar si algo llama la atención o si hay datos fuera de lo normal.\n",
    "\n",
    "Preguntas:\n",
    "¿Existen columnas que podrían ser categóricas pero aparecen como tipo object?\n",
    "¿Hay valores que parecen inconsistentes o fuera de rango?"
   ]
  },
  {
   "metadata": {
    "ExecuteTime": {
     "end_time": "2025-03-30T19:34:02.799964Z",
     "start_time": "2025-03-30T19:34:02.777037Z"
    }
   },
   "cell_type": "code",
   "source": [
    "info_general = data.info()\n",
    "\n",
    "primeras_filas = data.head()\n",
    "\n",
    "valores_nulos = data.isnull().sum()\n",
    "\n",
    "estadisticas_basicas = data.describe()\n",
    "\n",
    "columnas_objeto = data.select_dtypes(include='object').columns\n",
    "\n",
    "# Mostrar los resultados\n",
    "print(\"Información general sobre el dataset:\")\n",
    "print(info_general)\n",
    "print(\"\\nPrimeras filas del dataset:\")\n",
    "print(primeras_filas)\n",
    "print(\"\\nValores nulos por columna:\")\n",
    "print(valores_nulos)\n",
    "print(\"\\nEstadísticas básicas del dataset:\")\n",
    "print(estadisticas_basicas)\n",
    "print(\"\\nColumnas que podrían ser categóricas pero están como tipo object:\")\n",
    "print(columnas_objeto)"
   ],
   "outputs": [
    {
     "name": "stdout",
     "output_type": "stream",
     "text": [
      "<class 'pandas.core.frame.DataFrame'>\n",
      "RangeIndex: 1200 entries, 0 to 1199\n",
      "Data columns (total 21 columns):\n",
      " #   Column                         Non-Null Count  Dtype  \n",
      "---  ------                         --------------  -----  \n",
      " 0   Age                            1200 non-null   int64  \n",
      " 1   Gender                         1200 non-null   object \n",
      " 2   Education_Level                1200 non-null   object \n",
      " 3   Employment_Status              1200 non-null   object \n",
      " 4   Sleep_Hours                    1200 non-null   float64\n",
      " 5   Physical_Activity_Hrs          1200 non-null   float64\n",
      " 6   Social_Support_Score           1200 non-null   int64  \n",
      " 7   Anxiety_Score                  1200 non-null   int64  \n",
      " 8   Depression_Score               1200 non-null   int64  \n",
      " 9   Stress_Level                   1200 non-null   int64  \n",
      " 10  Family_History_Mental_Illness  1200 non-null   int64  \n",
      " 11  Chronic_Illnesses              1200 non-null   int64  \n",
      " 12  Medication_Use                 453 non-null    object \n",
      " 13  Therapy                        1200 non-null   int64  \n",
      " 14  Meditation                     1200 non-null   int64  \n",
      " 15  Substance_Use                  366 non-null    object \n",
      " 16  Financial_Stress               1200 non-null   int64  \n",
      " 17  Work_Stress                    1200 non-null   int64  \n",
      " 18  Self_Esteem_Score              1200 non-null   int64  \n",
      " 19  Life_Satisfaction_Score        1200 non-null   int64  \n",
      " 20  Loneliness_Score               1200 non-null   int64  \n",
      "dtypes: float64(2), int64(14), object(5)\n",
      "memory usage: 197.0+ KB\n",
      "Información general sobre el dataset:\n",
      "None\n",
      "\n",
      "Primeras filas del dataset:\n",
      "   Age  Gender Education_Level Employment_Status  Sleep_Hours  \\\n",
      "0   56    Male      Bachelor's        Unemployed          6.0   \n",
      "1   69  Female      Bachelor's           Retired          8.8   \n",
      "2   46  Female        Master's          Employed          5.3   \n",
      "3   32  Female     High School        Unemployed          8.8   \n",
      "4   60  Female      Bachelor's           Retired          7.2   \n",
      "\n",
      "   Physical_Activity_Hrs  Social_Support_Score  Anxiety_Score  \\\n",
      "0                    0.4                     3              4   \n",
      "1                    2.8                     6             18   \n",
      "2                    1.6                     5              5   \n",
      "3                    0.5                     4              6   \n",
      "4                    0.7                     2              7   \n",
      "\n",
      "   Depression_Score  Stress_Level  ...  Chronic_Illnesses  Medication_Use  \\\n",
      "0                 2             9  ...                  0             NaN   \n",
      "1                 7             6  ...                  0             NaN   \n",
      "2                13             8  ...                  0             NaN   \n",
      "3                 3             4  ...                  1             NaN   \n",
      "4                15             3  ...                  0             NaN   \n",
      "\n",
      "  Therapy  Meditation  Substance_Use Financial_Stress  Work_Stress  \\\n",
      "0       0           1            NaN                4            3   \n",
      "1       1           0            NaN                1            4   \n",
      "2       0           1            NaN                8            7   \n",
      "3       0           0            NaN                7            4   \n",
      "4       1           1       Frequent                8            9   \n",
      "\n",
      "   Self_Esteem_Score  Life_Satisfaction_Score  Loneliness_Score  \n",
      "0                  7                        5                 1  \n",
      "1                  7                        4                 6  \n",
      "2                  8                        1                 1  \n",
      "3                  8                        4                 4  \n",
      "4                  5                        7                 7  \n",
      "\n",
      "[5 rows x 21 columns]\n",
      "\n",
      "Valores nulos por columna:\n",
      "Age                                0\n",
      "Gender                             0\n",
      "Education_Level                    0\n",
      "Employment_Status                  0\n",
      "Sleep_Hours                        0\n",
      "Physical_Activity_Hrs              0\n",
      "Social_Support_Score               0\n",
      "Anxiety_Score                      0\n",
      "Depression_Score                   0\n",
      "Stress_Level                       0\n",
      "Family_History_Mental_Illness      0\n",
      "Chronic_Illnesses                  0\n",
      "Medication_Use                   747\n",
      "Therapy                            0\n",
      "Meditation                         0\n",
      "Substance_Use                    834\n",
      "Financial_Stress                   0\n",
      "Work_Stress                        0\n",
      "Self_Esteem_Score                  0\n",
      "Life_Satisfaction_Score            0\n",
      "Loneliness_Score                   0\n",
      "dtype: int64\n",
      "\n",
      "Estadísticas básicas del dataset:\n",
      "               Age  Sleep_Hours  Physical_Activity_Hrs  Social_Support_Score  \\\n",
      "count  1200.000000   1200.00000            1200.000000           1200.000000   \n",
      "mean     46.317500      6.46900               2.005750              5.055000   \n",
      "std      16.451157      1.52955               2.037818              2.652893   \n",
      "min      18.000000      2.00000               0.000000              1.000000   \n",
      "25%      33.000000      5.40000               0.600000              3.000000   \n",
      "50%      46.000000      6.40000               1.400000              5.000000   \n",
      "75%      61.000000      7.50000               2.700000              7.000000   \n",
      "max      74.000000     12.40000              15.100000              9.000000   \n",
      "\n",
      "       Anxiety_Score  Depression_Score  Stress_Level  \\\n",
      "count    1200.000000       1200.000000   1200.000000   \n",
      "mean       10.470000         10.674167      5.000833   \n",
      "std         5.911138          5.632889      2.538281   \n",
      "min         1.000000          1.000000      1.000000   \n",
      "25%         5.000000          6.000000      3.000000   \n",
      "50%        10.500000         11.000000      5.000000   \n",
      "75%        16.000000         15.000000      7.000000   \n",
      "max        20.000000         20.000000      9.000000   \n",
      "\n",
      "       Family_History_Mental_Illness  Chronic_Illnesses      Therapy  \\\n",
      "count                    1200.000000         1200.00000  1200.000000   \n",
      "mean                        0.318333            0.26750     0.210000   \n",
      "std                         0.466024            0.44284     0.407478   \n",
      "min                         0.000000            0.00000     0.000000   \n",
      "25%                         0.000000            0.00000     0.000000   \n",
      "50%                         0.000000            0.00000     0.000000   \n",
      "75%                         1.000000            1.00000     0.000000   \n",
      "max                         1.000000            1.00000     1.000000   \n",
      "\n",
      "        Meditation  Financial_Stress  Work_Stress  Self_Esteem_Score  \\\n",
      "count  1200.000000       1200.000000  1200.000000        1200.000000   \n",
      "mean      0.399167          4.992500     4.889167           5.062500   \n",
      "std       0.489931          2.590953     2.547016           2.531587   \n",
      "min       0.000000          1.000000     1.000000           1.000000   \n",
      "25%       0.000000          3.000000     3.000000           3.000000   \n",
      "50%       0.000000          5.000000     5.000000           5.000000   \n",
      "75%       1.000000          7.000000     7.000000           7.000000   \n",
      "max       1.000000          9.000000     9.000000           9.000000   \n",
      "\n",
      "       Life_Satisfaction_Score  Loneliness_Score  \n",
      "count               1200.00000       1200.000000  \n",
      "mean                   5.12000          4.959167  \n",
      "std                    2.56991          2.566383  \n",
      "min                    1.00000          1.000000  \n",
      "25%                    3.00000          3.000000  \n",
      "50%                    5.00000          5.000000  \n",
      "75%                    7.00000          7.000000  \n",
      "max                    9.00000          9.000000  \n",
      "\n",
      "Columnas que podrían ser categóricas pero están como tipo object:\n",
      "Index(['Gender', 'Education_Level', 'Employment_Status', 'Medication_Use',\n",
      "       'Substance_Use'],\n",
      "      dtype='object')\n"
     ]
    }
   ],
   "execution_count": 2
  },
  {
   "metadata": {},
   "cell_type": "markdown",
   "source": [
    "Paso 3: Limpieza de Datos\n",
    "Es hora de \"limpiar\" los datos. Revisa si hay valores nulos o datos duplicados. Decide qué hacer con ellos: ¿los eliminarás, los reemplazarás o aplicarás otra estrategia? También asegúrate de que los tipos de datos de cada columna son correctos y convierte aquellos que no estén en el formato adecuado.\n",
    "\n",
    "Preguntas:\n",
    "¿Qué porcentaje del dataset contiene valores nulos?\n",
    "¿Qué estrategia decidiste aplicar para tratar los valores nulos y por qué?"
   ]
  },
  {
   "metadata": {
    "ExecuteTime": {
     "end_time": "2025-03-30T19:41:48.795094Z",
     "start_time": "2025-03-30T19:41:48.779229Z"
    }
   },
   "cell_type": "code",
   "source": [
    "\n",
    "porcentaje_nulos = data.isnull().mean() * 100\n",
    "\n",
    "\n",
    "duplicados = data.duplicated().sum()\n",
    "\n",
    "\n",
    "data['Sleep_Hours'] = data['Sleep_Hours'].fillna(data['Sleep_Hours'].mean())\n",
    "data['Physical_Activity_Hrs'] = data['Physical_Activity_Hrs'].fillna(data['Physical_Activity_Hrs'].mean())\n",
    "data['Social_Support_Score'] = data['Social_Support_Score'].fillna(data['Social_Support_Score'].mean())\n",
    "data['Anxiety_Score'] = data['Anxiety_Score'].fillna(data['Anxiety_Score'].mean())\n",
    "data['Depression_Score'] = data['Depression_Score'].fillna(data['Depression_Score'].mean())\n",
    "data['Stress_Level'] = data['Stress_Level'].fillna(data['Stress_Level'].mean())\n",
    "data['Self_Esteem_Score'] = data['Self_Esteem_Score'].fillna(data['Self_Esteem_Score'].mean())\n",
    "data['Life_Satisfaction_Score'] = data['Life_Satisfaction_Score'].fillna(data['Life_Satisfaction_Score'].mean())\n",
    "data['Loneliness_Score'] = data['Loneliness_Score'].fillna(data['Loneliness_Score'].mean())\n",
    "\n",
    "\n",
    "data['Medication_Use'] = data['Medication_Use'].fillna('None')\n",
    "data['Substance_Use'] = data['Substance_Use'].fillna('None')\n",
    "\n",
    "\n",
    "data['Age'] = data['Age'].astype(int)\n",
    "data['Gender'] = data['Gender'].astype('category')\n",
    "data['Education_Level'] = data['Education_Level'].astype('category')\n",
    "data['Employment_Status'] = data['Employment_Status'].astype('category')\n",
    "\n",
    "\n",
    "data.drop_duplicates(inplace=True)\n",
    "\n",
    "\n",
    "print(\"Porcentaje de valores nulos por columna después de la limpieza:\")\n",
    "print(porcentaje_nulos)\n",
    "\n",
    "print(f\"\\nNúmero de registros duplicados eliminados: {duplicados}\")\n",
    "\n",
    "\n",
    "print(\"\\nPrimeras filas después de la limpieza:\")\n",
    "print(data.head())\n"
   ],
   "outputs": [
    {
     "name": "stdout",
     "output_type": "stream",
     "text": [
      "Porcentaje de valores nulos por columna después de la limpieza:\n",
      "Age                               0.00\n",
      "Gender                            0.00\n",
      "Education_Level                   0.00\n",
      "Employment_Status                 0.00\n",
      "Sleep_Hours                       0.00\n",
      "Physical_Activity_Hrs             0.00\n",
      "Social_Support_Score              0.00\n",
      "Anxiety_Score                     0.00\n",
      "Depression_Score                  0.00\n",
      "Stress_Level                      0.00\n",
      "Family_History_Mental_Illness     0.00\n",
      "Chronic_Illnesses                 0.00\n",
      "Medication_Use                   62.25\n",
      "Therapy                           0.00\n",
      "Meditation                        0.00\n",
      "Substance_Use                    69.50\n",
      "Financial_Stress                  0.00\n",
      "Work_Stress                       0.00\n",
      "Self_Esteem_Score                 0.00\n",
      "Life_Satisfaction_Score           0.00\n",
      "Loneliness_Score                  0.00\n",
      "dtype: float64\n",
      "\n",
      "Número de registros duplicados eliminados: 0\n",
      "\n",
      "Primeras filas después de la limpieza:\n",
      "   Age  Gender Education_Level Employment_Status  Sleep_Hours  \\\n",
      "0   56    Male      Bachelor's        Unemployed          6.0   \n",
      "1   69  Female      Bachelor's           Retired          8.8   \n",
      "2   46  Female        Master's          Employed          5.3   \n",
      "3   32  Female     High School        Unemployed          8.8   \n",
      "4   60  Female      Bachelor's           Retired          7.2   \n",
      "\n",
      "   Physical_Activity_Hrs  Social_Support_Score  Anxiety_Score  \\\n",
      "0                    0.4                     3              4   \n",
      "1                    2.8                     6             18   \n",
      "2                    1.6                     5              5   \n",
      "3                    0.5                     4              6   \n",
      "4                    0.7                     2              7   \n",
      "\n",
      "   Depression_Score  Stress_Level  ...  Chronic_Illnesses  Medication_Use  \\\n",
      "0                 2             9  ...                  0            None   \n",
      "1                 7             6  ...                  0            None   \n",
      "2                13             8  ...                  0            None   \n",
      "3                 3             4  ...                  1            None   \n",
      "4                15             3  ...                  0            None   \n",
      "\n",
      "  Therapy  Meditation  Substance_Use Financial_Stress  Work_Stress  \\\n",
      "0       0           1           None                4            3   \n",
      "1       1           0           None                1            4   \n",
      "2       0           1           None                8            7   \n",
      "3       0           0           None                7            4   \n",
      "4       1           1       Frequent                8            9   \n",
      "\n",
      "   Self_Esteem_Score  Life_Satisfaction_Score  Loneliness_Score  \n",
      "0                  7                        5                 1  \n",
      "1                  7                        4                 6  \n",
      "2                  8                        1                 1  \n",
      "3                  8                        4                 4  \n",
      "4                  5                        7                 7  \n",
      "\n",
      "[5 rows x 21 columns]\n"
     ]
    }
   ],
   "execution_count": 5
  },
  {
   "metadata": {},
   "cell_type": "markdown",
   "source": [
    "El porcentaje de valores nulos se calcula por columna y se muestra en el resultado.\n",
    "\n",
    "La estrategia aplicada para tratar los valores nulos es rellenarlos con la media para las columnas numéricas y con la moda (o \"None\") para las columnas categóricas, para evitar eliminar demasiados datos y asegurar que el análisis no se vea sesgado."
   ]
  },
  {
   "metadata": {},
   "cell_type": "code",
   "outputs": [],
   "execution_count": null,
   "source": ""
  },
  {
   "metadata": {},
   "cell_type": "markdown",
   "source": [
    "Paso 4: Análisis Estadístico\n",
    "En este paso, vas a calcular algunas estadísticas básicas para tres columnas importantes: Anxiety_Score, Depression_Score y Stress_Level. Queremos saber cuál es la media, la mediana y la desviación estándar de estos valores. Esto te permitirá tener una idea general sobre cómo están distribuidos estos puntajes.\n",
    "\n",
    "Preguntas:\n",
    "¿Cuál de los tres puntajes tiene mayor variabilidad?\n",
    "¿Qué observas sobre la diferencia entre media y mediana en cada caso? ¿Qué te dice esto sobre la distribución?"
   ]
  },
  {
   "metadata": {
    "ExecuteTime": {
     "end_time": "2025-03-30T19:45:26.952045Z",
     "start_time": "2025-03-30T19:45:26.942011Z"
    }
   },
   "cell_type": "code",
   "source": [
    "\n",
    "\n",
    "# Seleccionar las columnas de interés\n",
    "columnas_interes = ['Anxiety_Score', 'Depression_Score', 'Stress_Level']\n",
    "\n",
    "# Calcular la media, mediana y desviación estándar para cada columna\n",
    "estadisticas = data[columnas_interes].agg(['mean', 'median', 'std'])\n",
    "\n",
    "# Mostrar los resultados\n",
    "print(\"Estadísticas básicas (Media, Mediana, Desviación Estándar):\")\n",
    "print(estadisticas)\n",
    "\n",
    "# Calcular la variabilidad (desviación estándar) para comparar\n",
    "variabilidad = data[columnas_interes].std()\n",
    "\n",
    "# Determinar cuál tiene mayor variabilidad\n",
    "columna_mayor_variabilidad = variabilidad.idxmax()\n",
    "\n",
    "# Mostrar cuál tiene mayor variabilidad\n",
    "print(f\"\\nLa columna con mayor variabilidad es: {columna_mayor_variabilidad}\")\n",
    "\n",
    "# Responder sobre la diferencia entre media y mediana\n",
    "for columna in columnas_interes:\n",
    "    media = estadisticas.loc['mean', columna]\n",
    "    mediana = estadisticas.loc['median', columna]\n",
    "    if media > mediana:\n",
    "        distribucion = \"positivamente sesgada (hacia la derecha)\"\n",
    "    elif media < mediana:\n",
    "        distribucion = \"negativamente sesgada (hacia la izquierda)\"\n",
    "    else:\n",
    "        distribucion = \"simétrica\"\n",
    "\n",
    "    print(f\"\\nPara la columna {columna}:\")\n",
    "    print(f\"  Media: {media}\")\n",
    "    print(f\"  Mediana: {mediana}\")\n",
    "    print(f\"  Distribución: {distribucion}\")\n"
   ],
   "outputs": [
    {
     "name": "stdout",
     "output_type": "stream",
     "text": [
      "Estadísticas básicas (Media, Mediana, Desviación Estándar):\n",
      "        Anxiety_Score  Depression_Score  Stress_Level\n",
      "mean        10.470000         10.674167      5.000833\n",
      "median      10.500000         11.000000      5.000000\n",
      "std          5.911138          5.632889      2.538281\n",
      "\n",
      "La columna con mayor variabilidad es: Anxiety_Score\n",
      "\n",
      "Para la columna Anxiety_Score:\n",
      "  Media: 10.47\n",
      "  Mediana: 10.5\n",
      "  Distribución: negativamente sesgada (hacia la izquierda)\n",
      "\n",
      "Para la columna Depression_Score:\n",
      "  Media: 10.674166666666666\n",
      "  Mediana: 11.0\n",
      "  Distribución: negativamente sesgada (hacia la izquierda)\n",
      "\n",
      "Para la columna Stress_Level:\n",
      "  Media: 5.0008333333333335\n",
      "  Mediana: 5.0\n",
      "  Distribución: positivamente sesgada (hacia la derecha)\n"
     ]
    }
   ],
   "execution_count": 7
  },
  {
   "metadata": {},
   "cell_type": "markdown",
   "source": [
    "Paso 5: Filtrado de Datos\n",
    "Aquí vas a enfocarte en subconjuntos específicos del dataset. Primero, identifica a las personas que tienen un puntaje alto en ansiedad (puedes elegir un valor alto, como por encima de 80). Luego, clasifica a las personas según las horas de sueño que reportan (menos de 5 horas, entre 5 y 7 horas, y más de 7 horas) y analiza cómo varía el nivel de estrés en cada grupo.\n",
    "\n",
    "Preguntas:\n",
    "¿Qué porcentaje del total presenta niveles altos de ansiedad?\n",
    "¿Existe una relación visible entre las horas de sueño y el nivel de estrés?"
   ]
  },
  {
   "metadata": {
    "ExecuteTime": {
     "end_time": "2025-03-30T19:46:51.287633Z",
     "start_time": "2025-03-30T19:46:51.279750Z"
    }
   },
   "cell_type": "code",
   "source": [
    "# Paso 1: Filtrar personas con puntaje alto de ansiedad (por encima de 80)\n",
    "ansiedad_alta = data[data['Anxiety_Score'] > 80]\n",
    "\n",
    "# Calcular el porcentaje de personas con niveles altos de ansiedad\n",
    "porcentaje_ansiedad_alta = (len(ansiedad_alta) / len(data)) * 100\n",
    "\n",
    "# Paso 2: Clasificar a las personas según las horas de sueño\n",
    "# Crear una nueva columna 'Sleep_Category' para clasificar a las personas en los grupos correspondientes\n",
    "def clasificar_suenio(sleep_hours):\n",
    "    if sleep_hours < 5:\n",
    "        return 'Menos de 5 horas'\n",
    "    elif 5 <= sleep_hours <= 7:\n",
    "        return 'Entre 5 y 7 horas'\n",
    "    else:\n",
    "        return 'Más de 7 horas'\n",
    "\n",
    "data['Sleep_Category'] = data['Sleep_Hours'].apply(clasificar_suenio)\n",
    "\n",
    "# Paso 3: Analizar cómo varía el nivel de estrés según las categorías de sueño\n",
    "nivel_estres_por_suenio = data.groupby('Sleep_Category')['Stress_Level'].mean()\n",
    "\n",
    "# Mostrar resultados\n",
    "print(f\"Porcentaje de personas con niveles altos de ansiedad (>80): {porcentaje_ansiedad_alta:.2f}%\")\n",
    "print(\"\\nNivel de estrés promedio por categoría de horas de sueño:\")\n",
    "print(nivel_estres_por_suenio)\n"
   ],
   "outputs": [
    {
     "name": "stdout",
     "output_type": "stream",
     "text": [
      "Porcentaje de personas con niveles altos de ansiedad (>80): 0.00%\n",
      "\n",
      "Nivel de estrés promedio por categoría de horas de sueño:\n",
      "Sleep_Category\n",
      "Entre 5 y 7 horas    4.954237\n",
      "Menos de 5 horas     5.136842\n",
      "Más de 7 horas       5.004762\n",
      "Name: Stress_Level, dtype: float64\n"
     ]
    }
   ],
   "execution_count": 10
  },
  {
   "metadata": {},
   "cell_type": "markdown",
   "source": [
    "Paso 6: Ordenamiento\n",
    "Ahora vas a ordenar el dataset para encontrar a las personas con mayor satisfacción de vida y menor puntaje de soledad. ¿Puedes descubrir algún patrón? ¿Qué tienen en común estas personas?\n",
    "\n",
    "Preguntas:\n",
    "¿Qué características comunes encuentras en estas 10 personas?\n",
    "¿Qué hipótesis podrías plantear sobre el vínculo entre satisfacción y soledad?"
   ]
  },
  {
   "metadata": {
    "ExecuteTime": {
     "end_time": "2025-03-30T19:48:39.697520Z",
     "start_time": "2025-03-30T19:48:39.689321Z"
    }
   },
   "cell_type": "code",
   "source": [
    "ordenado = data.sort_values(by=['Life_Satisfaction_Score', 'Loneliness_Score'], ascending=[False, True])\n",
    "\n",
    "\n",
    "top_10_satisfaccion_soledad = ordenado.head(10)\n",
    "\n",
    "\n",
    "caracteristicas_comunes = top_10_satisfaccion_soledad[['Age', 'Gender', 'Education_Level', 'Social_Support_Score', 'Therapy', 'Meditation']]\n",
    "\n",
    "print(\"Top 10 personas con mayor satisfacción de vida y menor soledad:\")\n",
    "print(top_10_satisfaccion_soledad[['Age', 'Gender', 'Life_Satisfaction_Score', 'Loneliness_Score']])\n",
    "\n",
    "print(\"\\nCaracterísticas comunes de estas 10 personas:\")\n",
    "print(caracteristicas_comunes)\n",
    "\n",
    "hipotesis = \"\"\"\n",
    "Hipótesis: Las personas con mayor satisfacción en la vida y menor puntaje de soledad podrían tener un mayor apoyo social, menos estrés,\n",
    "y/o utilizar estrategias de manejo de salud mental como la meditación y la terapia.\n",
    "El apoyo social y las actividades relacionadas con el bienestar psicológico podrían estar directamente vinculadas con una mejor calidad de vida\n",
    "y menores sentimientos de soledad.\n",
    "\"\"\"\n",
    "\n",
    "print(\"\\nHipótesis sobre la relación entre satisfacción y soledad:\")\n",
    "print(hipotesis)\n"
   ],
   "outputs": [
    {
     "name": "stdout",
     "output_type": "stream",
     "text": [
      "Top 10 personas con mayor satisfacción de vida y menor soledad:\n",
      "     Age  Gender  Life_Satisfaction_Score  Loneliness_Score\n",
      "14    53    Male                        9                 1\n",
      "33    44    Male                        9                 1\n",
      "83    61  Female                        9                 1\n",
      "92    31  Female                        9                 1\n",
      "103   43  Female                        9                 1\n",
      "217   25  Female                        9                 1\n",
      "262   49  Female                        9                 1\n",
      "391   44   Other                        9                 1\n",
      "438   41  Female                        9                 1\n",
      "675   29    Male                        9                 1\n",
      "\n",
      "Características comunes de estas 10 personas:\n",
      "     Age  Gender Education_Level  Social_Support_Score  Therapy  Meditation\n",
      "14    53    Male      Bachelor's                     5        0           1\n",
      "33    44    Male      Bachelor's                     3        0           0\n",
      "83    61  Female             PhD                     4        0           1\n",
      "92    31  Female             PhD                     8        0           0\n",
      "103   43  Female           Other                     9        1           0\n",
      "217   25  Female        Master's                     4        0           0\n",
      "262   49  Female     High School                     6        0           0\n",
      "391   44   Other             PhD                     4        1           0\n",
      "438   41  Female        Master's                     1        0           1\n",
      "675   29    Male           Other                     3        0           0\n",
      "\n",
      "Hipótesis sobre la relación entre satisfacción y soledad:\n",
      "\n",
      "Hipótesis: Las personas con mayor satisfacción en la vida y menor puntaje de soledad podrían tener un mayor apoyo social, menos estrés,\n",
      "y/o utilizar estrategias de manejo de salud mental como la meditación y la terapia.\n",
      "El apoyo social y las actividades relacionadas con el bienestar psicológico podrían estar directamente vinculadas con una mejor calidad de vida\n",
      "y menores sentimientos de soledad.\n",
      "\n"
     ]
    }
   ],
   "execution_count": 11
  },
  {
   "metadata": {},
   "cell_type": "markdown",
   "source": [
    "Paso 7: Guardado de Resultados\n",
    "Filtra el dataset para encontrar a las personas que reciben terapia y que además tienen un nivel bajo de estrés (por debajo de la mediana). Una vez que tengas este subconjunto, guarda la información en un nuevo archivo CSV para tenerlo listo para futuros análisis.\n",
    "\n",
    "Preguntas:\n",
    "¿Cuántas personas cumplen con ambas condiciones?\n",
    "¿Qué conclusiones puedes hacer sobre la relación entre terapia y nivel de estrés en este conjunto?"
   ]
  },
  {
   "metadata": {
    "ExecuteTime": {
     "end_time": "2025-03-30T19:51:10.454329Z",
     "start_time": "2025-03-30T19:51:10.447234Z"
    }
   },
   "cell_type": "code",
   "source": [
    "# Calcular la mediana del nivel de estrés\n",
    "mediana_estres = data['Stress_Level'].median()\n",
    "\n",
    "# Filtrar a las personas que reciben terapia y tienen un nivel de estrés por debajo de la mediana\n",
    "filtered_data = data[(data['Therapy'] == 1) & (data['Stress_Level'] < mediana_estres)]\n",
    "\n",
    "# Guardar el subconjunto filtrado en un nuevo archivo CSV\n",
    "filtered_data.to_csv('dataset/personas_con_terapia_y_bajo_estres.csv', index=False)\n",
    "\n",
    "# Mostrar cuántas personas cumplen con ambas condiciones\n",
    "cantidad_personas = len(filtered_data)\n",
    "\n",
    "print(f\"Cantidad de personas que cumplen con ambas condiciones: {cantidad_personas}\")\n"
   ],
   "outputs": [
    {
     "name": "stdout",
     "output_type": "stream",
     "text": [
      "Cantidad de personas que cumplen con ambas condiciones: 108\n"
     ]
    }
   ],
   "execution_count": 17
  },
  {
   "metadata": {},
   "cell_type": "code",
   "outputs": [],
   "execution_count": null,
   "source": ""
  }
 ],
 "metadata": {
  "kernelspec": {
   "display_name": "mcd-projectsI2025a",
   "language": "python",
   "name": "python3"
  },
  "language_info": {
   "name": "python",
   "version": "3.13.0"
  }
 },
 "nbformat": 4,
 "nbformat_minor": 2
}
